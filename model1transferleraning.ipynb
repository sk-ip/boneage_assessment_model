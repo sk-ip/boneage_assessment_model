{
 "cells": [
  {
   "cell_type": "code",
   "execution_count": 1,
   "metadata": {},
   "outputs": [
    {
     "name": "stderr",
     "output_type": "stream",
     "text": [
      "c:\\users\\sudhanshu\\anaconda3\\envs\\python35\\lib\\site-packages\\h5py\\__init__.py:36: FutureWarning: Conversion of the second argument of issubdtype from `float` to `np.floating` is deprecated. In future, it will be treated as `np.float64 == np.dtype(float).type`.\n",
      "  from ._conv import register_converters as _register_converters\n",
      "Using TensorFlow backend.\n"
     ]
    }
   ],
   "source": [
    "import os\n",
    "import numpy as np\n",
    "from PIL import Image\n",
    "import matplotlib.pyplot as plt\n",
    "from keras import models, layers, optimizers, losses\n",
    "from keras.preprocessing.image import ImageDataGenerator\n",
    "from keras.models import model_from_yaml\n",
    "from keras.applications import VGG16"
   ]
  },
  {
   "cell_type": "code",
   "execution_count": 2,
   "metadata": {},
   "outputs": [],
   "source": [
    "conv_base = VGG16(weights = 'imagenet', include_top = False, input_shape = (224, 224, 3))"
   ]
  },
  {
   "cell_type": "code",
   "execution_count": 9,
   "metadata": {},
   "outputs": [],
   "source": [
    "train_dir = r'C:\\Users\\Sudhanshu\\bone_age_model\\data'\n",
    "batch_size = 32\n",
    "n_train = 12611"
   ]
  },
  {
   "cell_type": "code",
   "execution_count": 10,
   "metadata": {},
   "outputs": [
    {
     "name": "stdout",
     "output_type": "stream",
     "text": [
      "Found 12611 images belonging to 1 classes.\n"
     ]
    }
   ],
   "source": [
    "datagen = ImageDataGenerator(rescale = 1./255)\n",
    "train_features = np.zeros(shape = (n_train, 7, 7, 512))\n",
    "train_labels = np.zeros(shape = (n_train, 2))\n",
    "\n",
    "train_generator = datagen.flow_from_directory(train_dir,\n",
    "                                             target_size = (224, 224),\n",
    "                                             batch_size = batch_size,\n",
    "                                             class_mode = None,\n",
    "                                             shuffle = False)"
   ]
  },
  {
   "cell_type": "code",
   "execution_count": null,
   "metadata": {},
   "outputs": [],
   "source": [
    "i = 0\n",
    "for inputs_batch in train_generator:\n",
    "    features_batch = conv_base.predict(inputs_batch)\n",
    "    train_features[i * batch_size : (i + 1) * batch_size] = features_batch\n",
    "    i += 1\n",
    "    if i * batch_size >= n_train:\n",
    "        break\n",
    "         \n",
    "train_features = np.reshape(train_features, (n_train, 7 * 7 * 512))"
   ]
  },
  {
   "cell_type": "code",
   "execution_count": null,
   "metadata": {},
   "outputs": [],
   "source": [
    "train_labels = []"
   ]
  },
  {
   "cell_type": "code",
   "execution_count": null,
   "metadata": {},
   "outputs": [],
   "source": [
    "model1 = Model()\n",
    "model1.add(layers.Dense(units = 256, activation = 'sigmoid', input_dim =  7*7*512))\n",
    "model1.add(layers.Droupout(0.5))\n",
    "model1.add(layers.Dense(units = 10, activation = 'sigmoid', input_dim = 256))\n",
    "model1.add(layers.Dense(units = 1))"
   ]
  },
  {
   "cell_type": "code",
   "execution_count": null,
   "metadata": {},
   "outputs": [],
   "source": [
    "model1.compile(optimizer = optimizers.SGD(lr=0.01, momentum=0.0, decay=0.0, nesterov=False),\n",
    "              loss = 'mean_squared_error', \n",
    "              metrics = ['acc'])\n",
    "\n",
    "history = model1.fit(train_features,\n",
    "                   train_labels,\n",
    "                   epoch = 20,\n",
    "                   batch_size = batch_size)"
   ]
  },
  {
   "cell_type": "code",
   "execution_count": null,
   "metadata": {},
   "outputs": [],
   "source": [
    "# serialize model to YAML\n",
    "model1_yaml = model1.to_yaml()\n",
    "with open(\"model1.yaml\", \"w\") as yaml_file:\n",
    "    yaml_file.write(model1_yaml)\n",
    "# serialize weights to HDF5\n",
    "model.save_weights(\"model1.h5\")\n",
    "print(\"Saved model to disk\")\n",
    " \n",
    "# later...\n",
    "# for loading the model to memory.\n",
    "# load YAML and create model\n",
    "#yaml_file = open('model1.yaml', 'r')\n",
    "#loaded_model1_yaml = yaml_file.read()\n",
    "#yaml_file.close()\n",
    "#loaded_model = model_from_yaml(loaded_model_yaml)\n",
    "# load weights into new model\n",
    "#loaded_model1.load_weights(\"model1.h5\")\n",
    "#print(\"Loaded model from disk\")\n",
    "# use loaded_model1 to compile and test"
   ]
  }
 ],
 "metadata": {
  "kernelspec": {
   "display_name": "Python 3",
   "language": "python",
   "name": "python3"
  },
  "language_info": {
   "codemirror_mode": {
    "name": "ipython",
    "version": 3
   },
   "file_extension": ".py",
   "mimetype": "text/x-python",
   "name": "python",
   "nbconvert_exporter": "python",
   "pygments_lexer": "ipython3",
   "version": "3.5.5"
  }
 },
 "nbformat": 4,
 "nbformat_minor": 2
}
